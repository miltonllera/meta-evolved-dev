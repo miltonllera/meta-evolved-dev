{
 "cells": [
  {
   "cell_type": "code",
   "execution_count": 1,
   "id": "9d81f787",
   "metadata": {},
   "outputs": [
    {
     "name": "stderr",
     "output_type": "stream",
     "text": [
      "/Users/mlle/.local/bin/pyenv/versions/3.11.3/envs/growjax2/lib/python3.11/site-packages/flax/struct.py:132: FutureWarning: jax.tree_util.register_keypaths is deprecated, and will be removed in a future release. Please use `register_pytree_with_keys()` instead.\n",
      "  jax.tree_util.register_keypaths(data_clz, keypaths)\n",
      "/Users/mlle/.local/bin/pyenv/versions/3.11.3/envs/growjax2/lib/python3.11/site-packages/flax/struct.py:132: FutureWarning: jax.tree_util.register_keypaths is deprecated, and will be removed in a future release. Please use `register_pytree_with_keys()` instead.\n",
      "  jax.tree_util.register_keypaths(data_clz, keypaths)\n",
      "/Users/mlle/.local/bin/pyenv/versions/3.11.3/envs/growjax2/lib/python3.11/site-packages/flax/struct.py:132: FutureWarning: jax.tree_util.register_keypaths is deprecated, and will be removed in a future release. Please use `register_pytree_with_keys()` instead.\n",
      "  jax.tree_util.register_keypaths(data_clz, keypaths)\n",
      "/Users/mlle/.local/bin/pyenv/versions/3.11.3/envs/growjax2/lib/python3.11/site-packages/flax/struct.py:132: FutureWarning: jax.tree_util.register_keypaths is deprecated, and will be removed in a future release. Please use `register_pytree_with_keys()` instead.\n",
      "  jax.tree_util.register_keypaths(data_clz, keypaths)\n",
      "/Users/mlle/.local/bin/pyenv/versions/3.11.3/envs/growjax2/lib/python3.11/site-packages/flax/struct.py:132: FutureWarning: jax.tree_util.register_keypaths is deprecated, and will be removed in a future release. Please use `register_pytree_with_keys()` instead.\n",
      "  jax.tree_util.register_keypaths(data_clz, keypaths)\n",
      "/Users/mlle/.local/bin/pyenv/versions/3.11.3/envs/growjax2/lib/python3.11/site-packages/flax/struct.py:132: FutureWarning: jax.tree_util.register_keypaths is deprecated, and will be removed in a future release. Please use `register_pytree_with_keys()` instead.\n",
      "  jax.tree_util.register_keypaths(data_clz, keypaths)\n"
     ]
    }
   ],
   "source": [
    "%load_ext autoreload\n",
    "%autoreload 2\n",
    "\n",
    "import os.path as osp\n",
    "import pyrootutils\n",
    "from functools import partial\n",
    "\n",
    "root = pyrootutils.setup_root(\n",
    "    search_from=osp.abspath(''),\n",
    "    indicator=[\".git\", \"pyproject.toml\"],\n",
    "    pythonpath=True,  # add to system path \n",
    "    dotenv=True,      # load environment variables .env file\n",
    "    cwd=True,         # change cwd to root\n",
    ")\n",
    "\n",
    "\n",
    "import numpy as np\n",
    "import hydra\n",
    "import jax\n",
    "import jax.numpy as jnp\n",
    "import jax.random as jr\n",
    "import equinox as eqx\n",
    "import equinox.nn as nn\n",
    "import matplotlib.pyplot as plt\n",
    "from qdax.utils.metrics import default_qd_metrics\n",
    "from bin.init.config import load_model_weights\n",
    "from src.task.dnaqd import QDSearchDNA\n",
    "from src.problem.levelgen import SimpleLevelGeneration\n",
    "from src.evo.qd import MAPElites, CMAOptEmitter\n",
    "from src.model.dev import NCA, NCA_DNA\n",
    "from src.nn.ca import IdentityAndSobelFilter, SliceOutput, MaxPoolAlive\n",
    "from src.nn.dna import DNAContextEncoder, DNAControl, DNAIndependentSampler\n",
    "from src.analysis.levelgen import plot_generated_levels\n",
    "from src.utils import tree_shape\n",
    "from src.analysis.run_utils import select_and_unstack, generate_outputs"
   ]
  },
  {
   "cell_type": "code",
   "execution_count": 2,
   "id": "a4bc6d81",
   "metadata": {},
   "outputs": [],
   "source": [
    "model = NCA_DNA(\n",
    "    nca=NCA(\n",
    "        state_size=9,\n",
    "        grid_size=(16, 16),\n",
    "        dev_steps=(50),\n",
    "        update_prob=0.5,\n",
    "        context_encoder=DNAContextEncoder(4, 8, 16, key=jr.PRNGKey(5)),\n",
    "        control_fn=DNAControl(9, 16, key=jr.PRNGKey(4)),\n",
    "        alive_fn=MaxPoolAlive(alive_bit=3, alive_threshold=0.1),\n",
    "        message_fn=IdentityAndSobelFilter(),\n",
    "        update_fn=nn.Sequential(\n",
    "            layers=[\n",
    "                nn.Conv2d(in_channels=9 * 3, out_channels=32, kernel_size=1, key=jr.PRNGKey(1)),\n",
    "                nn.Lambda(jax.nn.relu),\n",
    "                nn.Conv2d(in_channels=32, out_channels=9, kernel_size=1, key=jr.PRNGKey(2)),\n",
    "            ],\n",
    "        ),\n",
    "        output_decoder=SliceOutput(\n",
    "            dim=0,\n",
    "            start_idx=0,\n",
    "            end_idx=1,\n",
    "            squashing_function=partial(jax.numpy.argmax, axis=0),\n",
    "        ),\n",
    "        output_dev_steps=True,\n",
    "    ),\n",
    "    dna_generator=DNAIndependentSampler(\n",
    "        8, 4, jr.PRNGKey(3)\n",
    "    ),\n",
    ")\n",
    "\n",
    "weights = load_model_weights(model, \"data/logs/dnaqd/simple_level_gen/nca_dna/evo/2024-01-19_07-42\", checkpoint_file=\"best_ckpt-iteration_001676\")\n",
    "model = eqx.combine(weights, model)"
   ]
  },
  {
   "cell_type": "code",
   "execution_count": 3,
   "id": "69430290",
   "metadata": {},
   "outputs": [],
   "source": [
    "qd_algorithm = MAPElites(\n",
    "    CMAOptEmitter(\n",
    "        10,\n",
    "        32,\n",
    "        0.1,\n",
    "        num_descriptors = 2,\n",
    "        num_centroids = 10,\n",
    "        random_key= jr.PRNGKey(6),\n",
    "    ),\n",
    "    partial(default_qd_metrics, qd_offset=0.0),\n",
    ")\n",
    "\n",
    "\n",
    "# jaxpr = jax.make_jaxpr(qd_algorithm.init)\n",
    "# print(jaxpr.jaxpr)\n",
    "\n",
    "\n",
    "task = QDSearchDNA(\n",
    "    SimpleLevelGeneration(16, 16),\n",
    "    qd_algorithm=qd_algorithm,\n",
    "    n_iters=2,\n",
    "    popsize=10,\n",
    "    n_centroids=100,\n",
    "    n_centroid_samples=1000,\n",
    ")"
   ]
  },
  {
   "cell_type": "code",
   "execution_count": 4,
   "id": "ab47530e",
   "metadata": {},
   "outputs": [
    {
     "name": "stderr",
     "output_type": "stream",
     "text": [
      "/Users/mlle/Repos/grow-ai/dna-guided-ncas/src/evo/qd.py:52: UserWarning: This type of repertoire does not store the extra scores computed by the scoring function\n",
      "  repertoire = MapElitesRepertoire.init(\n"
     ]
    }
   ],
   "source": [
    "model_outputs = generate_outputs(model, task, jr.PRNGKey(1))\n",
    "(dna_dist, outputs, states) = model_outputs[0]\n",
    "scores, measures = model_outputs[2][0][:2]  #type: ignore"
   ]
  },
  {
   "cell_type": "markdown",
   "id": "895c8e59",
   "metadata": {},
   "source": [
    "## Intervening on DNA strings"
   ]
  },
  {
   "cell_type": "code",
   "execution_count": null,
   "id": "e932b665",
   "metadata": {},
   "outputs": [],
   "source": [
    "def intervene_on_dna(model, attn_weights):\n",
    "    # attn_weights has shape (n_dev_iters, dna_seqlen, H, W)\n",
    "    max_gene_idx = attn_weights.mean([0, 2, 3]).argmax()\n",
    "    \n",
    "    # hijack the model by changingin the context function\n",
    "    mask = np.zeros((16 * 16, 8)).astype(bool)\n",
    "    mask[:,max_gene_idx] = False\n",
    "    \n",
    "    intervened_model = eqx.tree_at(lambda m: m.nca.control_fn.dna_mask, model, mask, is_leaf=lambda x: x is None)\n",
    "    return intervened_model"
   ]
  },
  {
   "cell_type": "code",
   "execution_count": null,
   "id": "b37877b8",
   "metadata": {},
   "outputs": [],
   "source": [
    "best_dna = measures[-1].argmax(axis=0)[0] # use 0 for path length, 1 for symmetry\n",
    "# best_dna = scores[-1].argmax()\n",
    "\n",
    "dna = dna_dist[-1, best_dna]\n",
    "output = outputs[-1, best_dna]\n",
    "# print(tree_shape(states))\n",
    "weights = states[1][-1, best_dna]\n",
    "\n",
    "intervened_model = intervene_on_dna(model, weights)\n",
    "intervened_output, intervened_states = intervened_model.nca(dna, jr.key(0))"
   ]
  },
  {
   "cell_type": "code",
   "execution_count": null,
   "id": "d8698dde",
   "metadata": {},
   "outputs": [],
   "source": [
    "print(outputs.shape)"
   ]
  },
  {
   "cell_type": "code",
   "execution_count": null,
   "id": "52a3834b",
   "metadata": {
    "scrolled": true
   },
   "outputs": [],
   "source": [
    "fig, (ax1, ax2) = plt.subplots(ncols=2)\n",
    "ax1.imshow(output)\n",
    "ax2.imshow(intervened_output)\n",
    "fig"
   ]
  },
  {
   "cell_type": "markdown",
   "id": "f720e5b6",
   "metadata": {},
   "source": [
    "## Finding directions of variations within the DNA"
   ]
  },
  {
   "cell_type": "code",
   "execution_count": 5,
   "id": "4ac954f4",
   "metadata": {},
   "outputs": [],
   "source": [
    "from sklearn.linear_model import LassoCV\n",
    "from sklearn.cross_decomposition import PLSRegression"
   ]
  },
  {
   "cell_type": "code",
   "execution_count": 6,
   "id": "d9ba429e",
   "metadata": {},
   "outputs": [],
   "source": [
    "flattened_dnas = dna_dist.reshape(-1, 8, 4).argmax(-1)\n",
    "flattened_scores = scores.reshape(-1)\n",
    "flattened_measures = measures.reshape(-1, 2)\n",
    "path_lengths, symmetries = flattened_measures.T\n",
    "\n",
    "metrics = jnp.concatenate([flattened_scores[..., None], flattened_measures], axis=-1)"
   ]
  },
  {
   "cell_type": "code",
   "execution_count": 7,
   "id": "445c7fb5",
   "metadata": {},
   "outputs": [],
   "source": [
    "lasso_pl = LassoCV(alphas=np.geomspace(0.01, 1.0, 100), max_iter=10000)\n",
    "lasso_symmetry = LassoCV(alphas=np.geomspace(0.01, 1.0, 100), max_iter=10000)\n",
    "lasso_scores = LassoCV(alphas=np.geomspace(0.01, 1.0, 100), max_iter=10000)"
   ]
  },
  {
   "cell_type": "code",
   "execution_count": 8,
   "id": "8385f28c",
   "metadata": {},
   "outputs": [
    {
     "data": {
      "text/html": [
       "<style>#sk-container-id-1 {color: black;background-color: white;}#sk-container-id-1 pre{padding: 0;}#sk-container-id-1 div.sk-toggleable {background-color: white;}#sk-container-id-1 label.sk-toggleable__label {cursor: pointer;display: block;width: 100%;margin-bottom: 0;padding: 0.3em;box-sizing: border-box;text-align: center;}#sk-container-id-1 label.sk-toggleable__label-arrow:before {content: \"▸\";float: left;margin-right: 0.25em;color: #696969;}#sk-container-id-1 label.sk-toggleable__label-arrow:hover:before {color: black;}#sk-container-id-1 div.sk-estimator:hover label.sk-toggleable__label-arrow:before {color: black;}#sk-container-id-1 div.sk-toggleable__content {max-height: 0;max-width: 0;overflow: hidden;text-align: left;background-color: #f0f8ff;}#sk-container-id-1 div.sk-toggleable__content pre {margin: 0.2em;color: black;border-radius: 0.25em;background-color: #f0f8ff;}#sk-container-id-1 input.sk-toggleable__control:checked~div.sk-toggleable__content {max-height: 200px;max-width: 100%;overflow: auto;}#sk-container-id-1 input.sk-toggleable__control:checked~label.sk-toggleable__label-arrow:before {content: \"▾\";}#sk-container-id-1 div.sk-estimator input.sk-toggleable__control:checked~label.sk-toggleable__label {background-color: #d4ebff;}#sk-container-id-1 div.sk-label input.sk-toggleable__control:checked~label.sk-toggleable__label {background-color: #d4ebff;}#sk-container-id-1 input.sk-hidden--visually {border: 0;clip: rect(1px 1px 1px 1px);clip: rect(1px, 1px, 1px, 1px);height: 1px;margin: -1px;overflow: hidden;padding: 0;position: absolute;width: 1px;}#sk-container-id-1 div.sk-estimator {font-family: monospace;background-color: #f0f8ff;border: 1px dotted black;border-radius: 0.25em;box-sizing: border-box;margin-bottom: 0.5em;}#sk-container-id-1 div.sk-estimator:hover {background-color: #d4ebff;}#sk-container-id-1 div.sk-parallel-item::after {content: \"\";width: 100%;border-bottom: 1px solid gray;flex-grow: 1;}#sk-container-id-1 div.sk-label:hover label.sk-toggleable__label {background-color: #d4ebff;}#sk-container-id-1 div.sk-serial::before {content: \"\";position: absolute;border-left: 1px solid gray;box-sizing: border-box;top: 0;bottom: 0;left: 50%;z-index: 0;}#sk-container-id-1 div.sk-serial {display: flex;flex-direction: column;align-items: center;background-color: white;padding-right: 0.2em;padding-left: 0.2em;position: relative;}#sk-container-id-1 div.sk-item {position: relative;z-index: 1;}#sk-container-id-1 div.sk-parallel {display: flex;align-items: stretch;justify-content: center;background-color: white;position: relative;}#sk-container-id-1 div.sk-item::before, #sk-container-id-1 div.sk-parallel-item::before {content: \"\";position: absolute;border-left: 1px solid gray;box-sizing: border-box;top: 0;bottom: 0;left: 50%;z-index: -1;}#sk-container-id-1 div.sk-parallel-item {display: flex;flex-direction: column;z-index: 1;position: relative;background-color: white;}#sk-container-id-1 div.sk-parallel-item:first-child::after {align-self: flex-end;width: 50%;}#sk-container-id-1 div.sk-parallel-item:last-child::after {align-self: flex-start;width: 50%;}#sk-container-id-1 div.sk-parallel-item:only-child::after {width: 0;}#sk-container-id-1 div.sk-dashed-wrapped {border: 1px dashed gray;margin: 0 0.4em 0.5em 0.4em;box-sizing: border-box;padding-bottom: 0.4em;background-color: white;}#sk-container-id-1 div.sk-label label {font-family: monospace;font-weight: bold;display: inline-block;line-height: 1.2em;}#sk-container-id-1 div.sk-label-container {text-align: center;}#sk-container-id-1 div.sk-container {/* jupyter's `normalize.less` sets `[hidden] { display: none; }` but bootstrap.min.css set `[hidden] { display: none !important; }` so we also need the `!important` here to be able to override the default hidden behavior on the sphinx rendered scikit-learn.org. See: https://github.com/scikit-learn/scikit-learn/issues/21755 */display: inline-block !important;position: relative;}#sk-container-id-1 div.sk-text-repr-fallback {display: none;}</style><div id=\"sk-container-id-1\" class=\"sk-top-container\"><div class=\"sk-text-repr-fallback\"><pre>LassoCV(alphas=array([0.01      , 0.01047616, 0.01097499, 0.01149757, 0.01204504,\n",
       "       0.01261857, 0.01321941, 0.01384886, 0.01450829, 0.01519911,\n",
       "       0.01592283, 0.01668101, 0.01747528, 0.01830738, 0.0191791 ,\n",
       "       0.02009233, 0.02104904, 0.02205131, 0.0231013 , 0.02420128,\n",
       "       0.02535364, 0.02656088, 0.02782559, 0.02915053, 0.03053856,\n",
       "       0.03199267, 0.03351603, 0.03511192, 0.0367838 , 0.03853529,\n",
       "       0.04037...\n",
       "       0.20565123, 0.21544347, 0.22570197, 0.23644894, 0.24770764,\n",
       "       0.25950242, 0.27185882, 0.28480359, 0.29836472, 0.31257158,\n",
       "       0.32745492, 0.34304693, 0.35938137, 0.37649358, 0.39442061,\n",
       "       0.41320124, 0.43287613, 0.45348785, 0.47508102, 0.49770236,\n",
       "       0.52140083, 0.54622772, 0.57223677, 0.59948425, 0.62802914,\n",
       "       0.65793322, 0.68926121, 0.7220809 , 0.75646333, 0.7924829 ,\n",
       "       0.83021757, 0.869749  , 0.91116276, 0.95454846, 1.        ]),\n",
       "        max_iter=10000)</pre><b>In a Jupyter environment, please rerun this cell to show the HTML representation or trust the notebook. <br />On GitHub, the HTML representation is unable to render, please try loading this page with nbviewer.org.</b></div><div class=\"sk-container\" hidden><div class=\"sk-item\"><div class=\"sk-estimator sk-toggleable\"><input class=\"sk-toggleable__control sk-hidden--visually\" id=\"sk-estimator-id-1\" type=\"checkbox\" checked><label for=\"sk-estimator-id-1\" class=\"sk-toggleable__label sk-toggleable__label-arrow\">LassoCV</label><div class=\"sk-toggleable__content\"><pre>LassoCV(alphas=array([0.01      , 0.01047616, 0.01097499, 0.01149757, 0.01204504,\n",
       "       0.01261857, 0.01321941, 0.01384886, 0.01450829, 0.01519911,\n",
       "       0.01592283, 0.01668101, 0.01747528, 0.01830738, 0.0191791 ,\n",
       "       0.02009233, 0.02104904, 0.02205131, 0.0231013 , 0.02420128,\n",
       "       0.02535364, 0.02656088, 0.02782559, 0.02915053, 0.03053856,\n",
       "       0.03199267, 0.03351603, 0.03511192, 0.0367838 , 0.03853529,\n",
       "       0.04037...\n",
       "       0.20565123, 0.21544347, 0.22570197, 0.23644894, 0.24770764,\n",
       "       0.25950242, 0.27185882, 0.28480359, 0.29836472, 0.31257158,\n",
       "       0.32745492, 0.34304693, 0.35938137, 0.37649358, 0.39442061,\n",
       "       0.41320124, 0.43287613, 0.45348785, 0.47508102, 0.49770236,\n",
       "       0.52140083, 0.54622772, 0.57223677, 0.59948425, 0.62802914,\n",
       "       0.65793322, 0.68926121, 0.7220809 , 0.75646333, 0.7924829 ,\n",
       "       0.83021757, 0.869749  , 0.91116276, 0.95454846, 1.        ]),\n",
       "        max_iter=10000)</pre></div></div></div></div></div>"
      ],
      "text/plain": [
       "LassoCV(alphas=array([0.01      , 0.01047616, 0.01097499, 0.01149757, 0.01204504,\n",
       "       0.01261857, 0.01321941, 0.01384886, 0.01450829, 0.01519911,\n",
       "       0.01592283, 0.01668101, 0.01747528, 0.01830738, 0.0191791 ,\n",
       "       0.02009233, 0.02104904, 0.02205131, 0.0231013 , 0.02420128,\n",
       "       0.02535364, 0.02656088, 0.02782559, 0.02915053, 0.03053856,\n",
       "       0.03199267, 0.03351603, 0.03511192, 0.0367838 , 0.03853529,\n",
       "       0.04037...\n",
       "       0.20565123, 0.21544347, 0.22570197, 0.23644894, 0.24770764,\n",
       "       0.25950242, 0.27185882, 0.28480359, 0.29836472, 0.31257158,\n",
       "       0.32745492, 0.34304693, 0.35938137, 0.37649358, 0.39442061,\n",
       "       0.41320124, 0.43287613, 0.45348785, 0.47508102, 0.49770236,\n",
       "       0.52140083, 0.54622772, 0.57223677, 0.59948425, 0.62802914,\n",
       "       0.65793322, 0.68926121, 0.7220809 , 0.75646333, 0.7924829 ,\n",
       "       0.83021757, 0.869749  , 0.91116276, 0.95454846, 1.        ]),\n",
       "        max_iter=10000)"
      ]
     },
     "execution_count": 8,
     "metadata": {},
     "output_type": "execute_result"
    }
   ],
   "source": [
    "lasso_pl.fit(flattened_dnas, path_lengths)\n",
    "lasso_symmetry.fit(flattened_dnas, symmetries)\n",
    "lasso_scores.fit(flattened_dnas, flattened_scores)"
   ]
  },
  {
   "cell_type": "code",
   "execution_count": 10,
   "id": "1bc42c03",
   "metadata": {},
   "outputs": [],
   "source": [
    "coeffs = np.stack([lasso_pl.coef_, lasso_symmetry.coef_, lasso_scores.coef_])\n",
    "plt.imshow(coeffs, cmap='hot')\n",
    "plt.colorbar()"
   ]
  },
  {
   "cell_type": "code",
   "execution_count": 11,
   "id": "def45bda",
   "metadata": {},
   "outputs": [],
   "source": [
    "print(lasso_symmetry.coef_)"
   ]
  }
 ],
 "metadata": {
  "kernelspec": {
   "display_name": "Python 3 (ipykernel)",
   "language": "python",
   "name": "python3"
  },
  "language_info": {
   "codemirror_mode": {
    "name": "ipython",
    "version": 3
   },
   "file_extension": ".py",
   "mimetype": "text/x-python",
   "name": "python",
   "nbconvert_exporter": "python",
   "pygments_lexer": "ipython3",
   "version": "3.11.3"
  }
 },
 "nbformat": 4,
 "nbformat_minor": 5
}
